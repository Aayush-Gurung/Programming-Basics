{
  "nbformat": 4,
  "nbformat_minor": 0,
  "metadata": {
    "colab": {
      "name": "PhoneNumberDetailsUsingPython.ipynb",
      "provenance": []
    },
    "kernelspec": {
      "name": "python3",
      "display_name": "Python 3"
    },
    "language_info": {
      "name": "python"
    }
  },
  "cells": [
    {
      "cell_type": "markdown",
      "metadata": {
        "id": "dI17RPaEmJRo"
      },
      "source": [
        "#Phone Number Details using Python\n",
        "To get the details of any number, we can use an amazing Python module known as **phonenumbers** . This module is created by [David Drysdale](https://www.linkedin.com/in/david-drysdale-1578771/) and you can use it to get the details of any phone number from anywhere in the world.\n",
        "\n",
        ">To install this Python module on your system, you can use the pip command on your terminal or the command prompt mentioned below:\n",
        "\n",
        ">`pip install phonenumbers`\n",
        "\n",
        "There are a lot of details you can find about a number using this Python module. The code below demonstrate how you can find some of the basic details about a phone number with the help of Python."
      ]
    },
    {
      "cell_type": "code",
      "metadata": {
        "id": "CmWqnK0gnjIG"
      },
      "source": [
        "!pip install phonenumbers"
      ],
      "execution_count": null,
      "outputs": []
    },
    {
      "cell_type": "code",
      "metadata": {
        "colab": {
          "base_uri": "https://localhost:8080/"
        },
        "id": "esV9KSv4mD0I",
        "outputId": "de3f9c5d-8852-4673-cd9c-d6faf75fee44"
      },
      "source": [
        "import phonenumbers as ph\n",
        "from phonenumbers import carrier\n",
        "from phonenumbers import geocoder\n",
        "from phonenumbers import timezone\n",
        "\n",
        "number = \"+919464139983\" #Replace this with any phone number(with country code)\n",
        "number = ph.parse(number)\n",
        "print(\"Time Zone: \",timezone.time_zones_for_number(number))\n",
        "print(\"Carrier Name: \",carrier.name_for_number(number, \"en\"))\n",
        "print(\"Location: \",geocoder.description_for_number(number, \"en\"))"
      ],
      "execution_count": 5,
      "outputs": [
        {
          "output_type": "stream",
          "name": "stdout",
          "text": [
            "Time Zone:  ('Asia/Calcutta',)\n",
            "Carrier Name:  BSNL MOBILE\n",
            "Location:  India\n"
          ]
        }
      ]
    }
  ]
}